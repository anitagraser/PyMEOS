{
 "cells": [
  {
   "cell_type": "markdown",
   "metadata": {},
   "source": [
    "# AIS Examples\n",
    "\n",
    "This example uses AIS data to show how to read and write information using PyMEOS.\n",
    "It is divided in 3 sections, each corresponding to one MEOS example:\n",
    "- [Reading from File](https://libmeos.org/tutorialprograms/meos_read_ais/)\n",
    "- [Assembling Trips](https://libmeos.org/tutorialprograms/meos_assemble_ais/)\n",
    "- [Storing in MobilityDB](https://libmeos.org/tutorialprograms/meos_store_ais/)\n",
    "\n",
    "This example uses the plotting and database capabilities of PyMEOS. To get the necessary dependencies, you can install pymeos specifying this options:\n",
    "```shell\n",
    "pip install pymeos[db,plot]\n",
    "```"
   ]
  },
  {
   "cell_type": "code",
   "execution_count": 1,
   "metadata": {
    "collapsed": false,
    "jupyter": {
     "outputs_hidden": false
    }
   },
   "outputs": [
    {
     "ename": "ModuleNotFoundError",
     "evalue": "No module named 'shapely'",
     "output_type": "error",
     "traceback": [
      "\u001b[0;31m---------------------------------------------------------------------------\u001b[0m",
      "\u001b[0;31mModuleNotFoundError\u001b[0m                       Traceback (most recent call last)",
      "Input \u001b[0;32mIn [1]\u001b[0m, in \u001b[0;36m<cell line: 2>\u001b[0;34m()\u001b[0m\n\u001b[1;32m      1\u001b[0m \u001b[38;5;28;01mimport\u001b[39;00m \u001b[38;5;21;01mmatplotlib\u001b[39;00m\u001b[38;5;21;01m.\u001b[39;00m\u001b[38;5;21;01mpyplot\u001b[39;00m \u001b[38;5;28;01mas\u001b[39;00m \u001b[38;5;21;01mplt\u001b[39;00m\n\u001b[0;32m----> 2\u001b[0m \u001b[38;5;28;01mfrom\u001b[39;00m \u001b[38;5;21;01mshapely\u001b[39;00m\u001b[38;5;21;01m.\u001b[39;00m\u001b[38;5;21;01mgeometry\u001b[39;00m \u001b[38;5;28;01mimport\u001b[39;00m Point\n\u001b[1;32m      3\u001b[0m \u001b[38;5;28;01mimport\u001b[39;00m \u001b[38;5;21;01mpandas\u001b[39;00m \u001b[38;5;28;01mas\u001b[39;00m \u001b[38;5;21;01mpd\u001b[39;00m\n\u001b[1;32m      4\u001b[0m \u001b[38;5;28;01mfrom\u001b[39;00m \u001b[38;5;21;01mpymeos\u001b[39;00m \u001b[38;5;28;01mimport\u001b[39;00m \u001b[38;5;241m*\u001b[39m\n",
      "\u001b[0;31mModuleNotFoundError\u001b[0m: No module named 'shapely'"
     ]
    }
   ],
   "source": [
    "import matplotlib.pyplot as plt\n",
    "from shapely.geometry import Point\n",
    "import pandas as pd\n",
    "from pymeos import *\n",
    "\n",
    "pymeos_initialize()"
   ]
  },
  {
   "cell_type": "markdown",
   "metadata": {},
   "source": [
    "## Reading from File ([MEOS Example](https://libmeos.org/tutorialprograms/meos_read_ais/))\n",
    "In this section, AIS data is read from a CSV file. We then use the read information to recreate the trajectories of the ships.\n",
    "\n"
   ]
  },
  {
   "cell_type": "markdown",
   "metadata": {},
   "source": [
    "First, let's read the CSV file using pandas."
   ]
  },
  {
   "cell_type": "code",
   "execution_count": null,
   "metadata": {
    "collapsed": false,
    "jupyter": {
     "outputs_hidden": false
    }
   },
   "outputs": [],
   "source": [
    "ais = pd.read_csv('./data/aisinput.csv')\n",
    "ais.head()"
   ]
  },
  {
   "cell_type": "markdown",
   "metadata": {},
   "source": [
    "Now, we will create the PyMEOS object representing the position and the SOG."
   ]
  },
  {
   "cell_type": "code",
   "execution_count": null,
   "metadata": {
    "collapsed": false,
    "jupyter": {
     "outputs_hidden": false
    }
   },
   "outputs": [],
   "source": [
    "ais['point'] = ais.apply(lambda row: TGeogPointInst(point=(row['longitude'], row['latitude']), timestamp=row['t']),\n",
    "                         axis=1)\n",
    "ais['sog'] = ais.apply(lambda row: TFloatInst(value=row['sog'], timestamp=row['t']), axis=1)\n",
    "ais['geometry'] = ais.apply(lambda row: Point(row['longitude'], row['latitude']), axis=1)\n",
    "ais.drop(['latitude', 'longitude'], axis=1, inplace=True)\n",
    "ais.head()"
   ]
  },
  {
   "cell_type": "markdown",
   "metadata": {},
   "source": [
    "## Assembling Trips ([MEOS Example](https://libmeos.org/tutorialprograms/meos_assemble_ais/))\n",
    "\n",
    "Now, we will create the trajectory (TGeogPointSeq) and the SOG evolution (TFloatSeq) for every ship (identified by the mmsi) using the instants we have created."
   ]
  },
  {
   "cell_type": "code",
   "execution_count": null,
   "metadata": {
    "collapsed": false,
    "jupyter": {
     "outputs_hidden": false
    }
   },
   "outputs": [],
   "source": [
    "trajectories = ais.groupby('mmsi').aggregate(\n",
    "    {\n",
    "        'point': TGeogPointSeq.from_instants,\n",
    "        'sog': TFloatSeq.from_instants\n",
    "    }\n",
    ").rename({'point': 'trajectory'}, axis=1)\n",
    "trajectories['distance'] = trajectories['trajectory'].apply(lambda t: t.length())\n",
    "trajectories.head()"
   ]
  },
  {
   "cell_type": "markdown",
   "metadata": {},
   "source": [
    "Here we can see that PyMEOS has been able to greatly reduce the number of points stored (and thus memory used) without losing any information."
   ]
  },
  {
   "cell_type": "code",
   "execution_count": null,
   "metadata": {
    "collapsed": false,
    "jupyter": {
     "outputs_hidden": false
    }
   },
   "outputs": [],
   "source": [
    "pd.concat([ais.groupby('mmsi')['t'].count().rename('original #points'),\n",
    "           trajectories['trajectory'].apply(lambda t: t.num_instants).rename('PyMEOS #points')],\n",
    "          axis=1)"
   ]
  },
  {
   "cell_type": "markdown",
   "metadata": {},
   "source": [
    "We can visualize the trajectories and the SOG evolutions by plotting them."
   ]
  },
  {
   "cell_type": "code",
   "execution_count": null,
   "metadata": {
    "collapsed": false,
    "jupyter": {
     "outputs_hidden": false
    }
   },
   "outputs": [],
   "source": [
    "fig, axes = plt.subplots(1, 2, figsize=(20, 10))\n",
    "for _, ship in trajectories.iterrows():\n",
    "    ship['trajectory'].plot(axes=axes[0])\n",
    "    ship['sog'].plot(axes=axes[1])\n",
    "plt.show()"
   ]
  },
  {
   "cell_type": "markdown",
   "metadata": {},
   "source": [
    "## Calculating temporal distances\n",
    "\n",
    "Let's find all AIS records within a given temporal distance of the green trajectory (mmsi=257136000)"
   ]
  },
  {
   "cell_type": "code",
   "execution_count": null,
   "metadata": {},
   "outputs": [],
   "source": [
    "MMSI = 257136000\n",
    "trajectories[trajectories.index.isin([MMSI])]"
   ]
  },
  {
   "cell_type": "code",
   "execution_count": null,
   "metadata": {},
   "outputs": [],
   "source": [
    "def distance_to_traj(row):\n",
    "    tpt = row['point']\n",
    "    traj = trajectories[trajectories.index.isin([MMSI])].trajectory.iloc[0]\n",
    "    d = traj.distance(tpt)\n",
    "    if d and row.mmsi != MMSI:\n",
    "        return d.value()\n",
    "    return None\n",
    "\n",
    "ais['dist'] = ais.apply(distance_to_traj, axis=1)\n",
    "ais"
   ]
  },
  {
   "cell_type": "code",
   "execution_count": null,
   "metadata": {},
   "outputs": [],
   "source": [
    "ais[(ais.dist>0) & (ais.dist<20000)]"
   ]
  },
  {
   "cell_type": "code",
   "execution_count": null,
   "metadata": {},
   "outputs": [],
   "source": [
    "import geopandas as gpd"
   ]
  },
  {
   "cell_type": "code",
   "execution_count": null,
   "metadata": {},
   "outputs": [],
   "source": [
    "MAX_DIST = 20000\n",
    "dwithin = gpd.GeoDataFrame(ais[(ais.dist>0) & (ais.dist<=MAX_DIST)][['mmsi','geometry','dist']], crs=4326)\n",
    "allais = gpd.GeoDataFrame(ais[ais.mmsi!=MMSI][['mmsi','geometry','dist']], crs=4326)"
   ]
  },
  {
   "cell_type": "code",
   "execution_count": null,
   "metadata": {},
   "outputs": [],
   "source": [
    "fig, ax = plt.subplots(figsize=(8,8))    # define fig and axes\n",
    "trajectories[trajectories.index.isin([257136000])].iloc[0]['trajectory'].plot(axes=ax)\n",
    "allais.plot(ax=ax, color='gray')\n",
    "dwithin.plot(ax=ax, color='red')"
   ]
  },
  {
   "cell_type": "markdown",
   "metadata": {},
   "source": [
    "# Storing in MobilityDB ([MEOS Example](https://libmeos.org/tutorialprograms/meos_store_ais/))\n",
    "\n",
    "Now we will store the temporal objects we have created in MobilityDB.\n",
    "To connect to MobilityDB (PostgreSQL), `psycopg2` is used. You can install it yourself or install `pymeos` with the `dbp2` option:\n",
    "```shell\n",
    "pip install pymeos[dbp2]\n",
    "```\n",
    "If you don't have MobilityDB set up, you can use the Docker image to quickly start:\n",
    "```shell\n",
    "docker run -d -p 5432:5432 --name pymeos-demo-db mobilitydb/mobilitydb:14-3.2-develop\n",
    "```\n",
    "MobilityDB also supports `asyncpg` and `psycopg` (psycopg3)"
   ]
  },
  {
   "cell_type": "markdown",
   "metadata": {},
   "source": [
    "First, set up the connection parameters. Change any of the following values according to your configuration"
   ]
  },
  {
   "cell_type": "code",
   "execution_count": null,
   "metadata": {
    "collapsed": false,
    "jupyter": {
     "outputs_hidden": false
    }
   },
   "outputs": [],
   "source": [
    "from pymeos.db.psycopg2 import MobilityDB\n",
    "\n",
    "host = 'localhost'\n",
    "port = 5432\n",
    "db = 'mobilitydb'\n",
    "user = 'docker'\n",
    "password = 'docker'\n",
    "\n",
    "connection = MobilityDB.connect(host=host, port=port, database=db, user=user, password=password)\n",
    "cursor = connection.cursor()"
   ]
  },
  {
   "cell_type": "markdown",
   "metadata": {},
   "source": [
    "Now, we will create the table where we will write our objects."
   ]
  },
  {
   "cell_type": "code",
   "execution_count": null,
   "metadata": {
    "collapsed": false,
    "jupyter": {
     "outputs_hidden": false
    }
   },
   "outputs": [],
   "source": [
    "cursor.execute(\"DROP TABLE IF EXISTS public.PyMEOS_demo;\")\n",
    "cursor.execute(\"CREATE TABLE public.PyMEOS_demo\"\n",
    "               \"(MMSI integer, trajectory public.tgeogpoint, SOG public.tfloat);\")\n",
    "connection.commit()"
   ]
  },
  {
   "cell_type": "markdown",
   "metadata": {},
   "source": [
    "Let's insert now the rows of the DataFrame into the MobilityDB table"
   ]
  },
  {
   "cell_type": "code",
   "execution_count": null,
   "metadata": {
    "collapsed": false,
    "jupyter": {
     "outputs_hidden": false
    }
   },
   "outputs": [],
   "source": [
    "for mmsi, row in trajectories.iterrows():\n",
    "    cursor.execute(f\"INSERT INTO public.PyMEOS_demo(MMSI, trajectory, SOG) \"\n",
    "                   f\"VALUES ({mmsi}, '{row.trajectory}', '{row.sog}');\")\n",
    "connection.commit()"
   ]
  },
  {
   "cell_type": "markdown",
   "metadata": {},
   "source": [
    "Now, we will read one of the records that we just wrote"
   ]
  },
  {
   "cell_type": "code",
   "execution_count": null,
   "metadata": {
    "collapsed": false,
    "jupyter": {
     "outputs_hidden": false
    }
   },
   "outputs": [],
   "source": [
    "cursor.execute(\"SELECT * FROM public.PyMEOS_demo WHERE MMSI = 257136000;\")\n",
    "mmsi, trajectory, sog = cursor.fetchone()"
   ]
  },
  {
   "cell_type": "code",
   "execution_count": null,
   "metadata": {
    "collapsed": false,
    "jupyter": {
     "outputs_hidden": false
    }
   },
   "outputs": [],
   "source": [
    "fig, axes = plt.subplots(1, 2, figsize=(20, 10))\n",
    "trajectory.plot(axes=axes[0])\n",
    "sog.plot(axes=axes[1])\n",
    "plt.suptitle(f'Ship {mmsi}')\n",
    "plt.show()"
   ]
  },
  {
   "cell_type": "markdown",
   "metadata": {},
   "source": [
    "Finally, let's close the connection and wrap everything up"
   ]
  },
  {
   "cell_type": "code",
   "execution_count": null,
   "metadata": {
    "collapsed": false,
    "jupyter": {
     "outputs_hidden": false
    }
   },
   "outputs": [],
   "source": [
    "connection.commit()\n",
    "cursor.close()\n",
    "pymeos_finalize()"
   ]
  }
 ],
 "metadata": {
  "kernelspec": {
   "display_name": "Python 3 (ipykernel)",
   "language": "python",
   "name": "python3"
  },
  "language_info": {
   "codemirror_mode": {
    "name": "ipython",
    "version": 3
   },
   "file_extension": ".py",
   "mimetype": "text/x-python",
   "name": "python",
   "nbconvert_exporter": "python",
   "pygments_lexer": "ipython3",
   "version": "3.9.7"
  }
 },
 "nbformat": 4,
 "nbformat_minor": 4
}
