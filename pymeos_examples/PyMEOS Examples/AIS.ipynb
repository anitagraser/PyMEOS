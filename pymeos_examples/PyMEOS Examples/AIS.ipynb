{
 "cells": [
  {
   "cell_type": "markdown",
   "metadata": {},
   "source": [
    "# AIS Examples\n",
    "\n",
    "This example uses AIS data to show how to read and write information using PyMEOS.\n",
    "It is divided in 3 sections, each corresponding to one MEOS example:\n",
    "- [Reading from File](https://libmeos.org/tutorialprograms/meos_read_ais/)\n",
    "- [Assembling Trips](https://libmeos.org/tutorialprograms/meos_assemble_ais/)\n",
    "- [Storing in MobilityDB](https://libmeos.org/tutorialprograms/meos_store_ais/)\n",
    "\n",
    "This example uses the plotting and database capabilities of PyMEOS. To get the necessary dependencies, you can install pymeos specifying this options:\n",
    "```shell\n",
    "pip install pymeos[db,plot]\n",
    "```"
   ]
  },
  {
   "cell_type": "code",
   "execution_count": 1,
   "metadata": {
    "collapsed": false,
    "jupyter": {
     "outputs_hidden": false
    }
   },
   "outputs": [],
   "source": [
    "import matplotlib.pyplot as plt\n",
    "from shapely.geometry import Point\n",
    "import pandas as pd\n",
    "from pymeos import *\n",
    "\n",
    "pymeos_initialize()"
   ]
  },
  {
   "cell_type": "markdown",
   "metadata": {},
   "source": [
    "## Reading from File ([MEOS Example](https://libmeos.org/tutorialprograms/meos_read_ais/))\n",
    "In this section, AIS data is read from a CSV file. We then use the read information to recreate the trajectories of the ships.\n",
    "\n"
   ]
  },
  {
   "cell_type": "markdown",
   "metadata": {},
   "source": [
    "First, let's read the CSV file using pandas."
   ]
  },
  {
   "cell_type": "code",
   "execution_count": 2,
   "metadata": {
    "collapsed": false,
    "jupyter": {
     "outputs_hidden": false
    }
   },
   "outputs": [
    {
     "data": {
      "text/html": [
       "<div>\n",
       "<style scoped>\n",
       "    .dataframe tbody tr th:only-of-type {\n",
       "        vertical-align: middle;\n",
       "    }\n",
       "\n",
       "    .dataframe tbody tr th {\n",
       "        vertical-align: top;\n",
       "    }\n",
       "\n",
       "    .dataframe thead th {\n",
       "        text-align: right;\n",
       "    }\n",
       "</style>\n",
       "<table border=\"1\" class=\"dataframe\">\n",
       "  <thead>\n",
       "    <tr style=\"text-align: right;\">\n",
       "      <th></th>\n",
       "      <th>t</th>\n",
       "      <th>mmsi</th>\n",
       "      <th>latitude</th>\n",
       "      <th>longitude</th>\n",
       "      <th>sog</th>\n",
       "    </tr>\n",
       "  </thead>\n",
       "  <tbody>\n",
       "    <tr>\n",
       "      <th>0</th>\n",
       "      <td>2021-01-08 00:00:00</td>\n",
       "      <td>265513270</td>\n",
       "      <td>57.05900</td>\n",
       "      <td>12.272388</td>\n",
       "      <td>0.0</td>\n",
       "    </tr>\n",
       "    <tr>\n",
       "      <th>1</th>\n",
       "      <td>2021-01-08 00:00:01</td>\n",
       "      <td>219027804</td>\n",
       "      <td>55.94244</td>\n",
       "      <td>11.866278</td>\n",
       "      <td>0.0</td>\n",
       "    </tr>\n",
       "    <tr>\n",
       "      <th>2</th>\n",
       "      <td>2021-01-08 00:00:01</td>\n",
       "      <td>265513270</td>\n",
       "      <td>57.05900</td>\n",
       "      <td>12.272388</td>\n",
       "      <td>0.0</td>\n",
       "    </tr>\n",
       "    <tr>\n",
       "      <th>3</th>\n",
       "      <td>2021-01-08 00:00:03</td>\n",
       "      <td>219027804</td>\n",
       "      <td>55.94244</td>\n",
       "      <td>11.866278</td>\n",
       "      <td>0.0</td>\n",
       "    </tr>\n",
       "    <tr>\n",
       "      <th>4</th>\n",
       "      <td>2021-01-08 00:00:04</td>\n",
       "      <td>265513270</td>\n",
       "      <td>57.05900</td>\n",
       "      <td>12.272388</td>\n",
       "      <td>0.0</td>\n",
       "    </tr>\n",
       "  </tbody>\n",
       "</table>\n",
       "</div>"
      ],
      "text/plain": [
       "                     t       mmsi  latitude  longitude  sog\n",
       "0  2021-01-08 00:00:00  265513270  57.05900  12.272388  0.0\n",
       "1  2021-01-08 00:00:01  219027804  55.94244  11.866278  0.0\n",
       "2  2021-01-08 00:00:01  265513270  57.05900  12.272388  0.0\n",
       "3  2021-01-08 00:00:03  219027804  55.94244  11.866278  0.0\n",
       "4  2021-01-08 00:00:04  265513270  57.05900  12.272388  0.0"
      ]
     },
     "execution_count": 2,
     "metadata": {},
     "output_type": "execute_result"
    }
   ],
   "source": [
    "ais = pd.read_csv('./data/aisinput.csv')\n",
    "ais.head()"
   ]
  },
  {
   "cell_type": "markdown",
   "metadata": {},
   "source": [
    "Now, we will create the PyMEOS object representing the position and the SOG."
   ]
  },
  {
   "cell_type": "code",
   "execution_count": 3,
   "metadata": {
    "collapsed": false,
    "jupyter": {
     "outputs_hidden": false
    }
   },
   "outputs": [
    {
     "data": {
      "text/html": [
       "<div>\n",
       "<style scoped>\n",
       "    .dataframe tbody tr th:only-of-type {\n",
       "        vertical-align: middle;\n",
       "    }\n",
       "\n",
       "    .dataframe tbody tr th {\n",
       "        vertical-align: top;\n",
       "    }\n",
       "\n",
       "    .dataframe thead th {\n",
       "        text-align: right;\n",
       "    }\n",
       "</style>\n",
       "<table border=\"1\" class=\"dataframe\">\n",
       "  <thead>\n",
       "    <tr style=\"text-align: right;\">\n",
       "      <th></th>\n",
       "      <th>t</th>\n",
       "      <th>mmsi</th>\n",
       "      <th>sog</th>\n",
       "      <th>point</th>\n",
       "      <th>geometry</th>\n",
       "    </tr>\n",
       "  </thead>\n",
       "  <tbody>\n",
       "    <tr>\n",
       "      <th>0</th>\n",
       "      <td>2021-01-08 00:00:00</td>\n",
       "      <td>265513270</td>\n",
       "      <td>0@2021-01-08 00:00:00+01</td>\n",
       "      <td>0101000020E61000004CA59F70768B2840643BDF4F8D87...</td>\n",
       "      <td>POINT (12.272388 57.059)</td>\n",
       "    </tr>\n",
       "    <tr>\n",
       "      <th>1</th>\n",
       "      <td>2021-01-08 00:00:01</td>\n",
       "      <td>219027804</td>\n",
       "      <td>0@2021-01-08 00:00:01+01</td>\n",
       "      <td>0101000020E6100000137D3ECA88BB27409B38B9DFA1F8...</td>\n",
       "      <td>POINT (11.866278 55.94244)</td>\n",
       "    </tr>\n",
       "    <tr>\n",
       "      <th>2</th>\n",
       "      <td>2021-01-08 00:00:01</td>\n",
       "      <td>265513270</td>\n",
       "      <td>0@2021-01-08 00:00:01+01</td>\n",
       "      <td>0101000020E61000004CA59F70768B2840643BDF4F8D87...</td>\n",
       "      <td>POINT (12.272388 57.059)</td>\n",
       "    </tr>\n",
       "    <tr>\n",
       "      <th>3</th>\n",
       "      <td>2021-01-08 00:00:03</td>\n",
       "      <td>219027804</td>\n",
       "      <td>0@2021-01-08 00:00:03+01</td>\n",
       "      <td>0101000020E6100000137D3ECA88BB27409B38B9DFA1F8...</td>\n",
       "      <td>POINT (11.866278 55.94244)</td>\n",
       "    </tr>\n",
       "    <tr>\n",
       "      <th>4</th>\n",
       "      <td>2021-01-08 00:00:04</td>\n",
       "      <td>265513270</td>\n",
       "      <td>0@2021-01-08 00:00:04+01</td>\n",
       "      <td>0101000020E61000004CA59F70768B2840643BDF4F8D87...</td>\n",
       "      <td>POINT (12.272388 57.059)</td>\n",
       "    </tr>\n",
       "  </tbody>\n",
       "</table>\n",
       "</div>"
      ],
      "text/plain": [
       "                     t       mmsi                       sog  \\\n",
       "0  2021-01-08 00:00:00  265513270  0@2021-01-08 00:00:00+01   \n",
       "1  2021-01-08 00:00:01  219027804  0@2021-01-08 00:00:01+01   \n",
       "2  2021-01-08 00:00:01  265513270  0@2021-01-08 00:00:01+01   \n",
       "3  2021-01-08 00:00:03  219027804  0@2021-01-08 00:00:03+01   \n",
       "4  2021-01-08 00:00:04  265513270  0@2021-01-08 00:00:04+01   \n",
       "\n",
       "                                               point  \\\n",
       "0  0101000020E61000004CA59F70768B2840643BDF4F8D87...   \n",
       "1  0101000020E6100000137D3ECA88BB27409B38B9DFA1F8...   \n",
       "2  0101000020E61000004CA59F70768B2840643BDF4F8D87...   \n",
       "3  0101000020E6100000137D3ECA88BB27409B38B9DFA1F8...   \n",
       "4  0101000020E61000004CA59F70768B2840643BDF4F8D87...   \n",
       "\n",
       "                     geometry  \n",
       "0    POINT (12.272388 57.059)  \n",
       "1  POINT (11.866278 55.94244)  \n",
       "2    POINT (12.272388 57.059)  \n",
       "3  POINT (11.866278 55.94244)  \n",
       "4    POINT (12.272388 57.059)  "
      ]
     },
     "execution_count": 3,
     "metadata": {},
     "output_type": "execute_result"
    }
   ],
   "source": [
    "ais['point'] = ais.apply(lambda row: TGeogPointInst(point=(row['longitude'], row['latitude']), timestamp=row['t']),\n",
    "                         axis=1)\n",
    "ais['sog'] = ais.apply(lambda row: TFloatInst(value=row['sog'], timestamp=row['t']), axis=1)\n",
    "ais['geometry'] = ais.apply(lambda row: Point(row['longitude'], row['latitude']), axis=1)\n",
    "ais.drop(['latitude', 'longitude'], axis=1, inplace=True)\n",
    "ais.head()"
   ]
  },
  {
   "cell_type": "markdown",
   "metadata": {},
   "source": [
    "## Assembling Trips ([MEOS Example](https://libmeos.org/tutorialprograms/meos_assemble_ais/))\n",
    "\n",
    "Now, we will create the trajectory (TGeogPointSeq) and the SOG evolution (TFloatSeq) for every ship (identified by the mmsi) using the instants we have created."
   ]
  },
  {
   "cell_type": "code",
   "execution_count": 4,
   "metadata": {
    "collapsed": false,
    "jupyter": {
     "outputs_hidden": false
    }
   },
   "outputs": [
    {
     "data": {
      "text/html": [
       "<div>\n",
       "<style scoped>\n",
       "    .dataframe tbody tr th:only-of-type {\n",
       "        vertical-align: middle;\n",
       "    }\n",
       "\n",
       "    .dataframe tbody tr th {\n",
       "        vertical-align: top;\n",
       "    }\n",
       "\n",
       "    .dataframe thead th {\n",
       "        text-align: right;\n",
       "    }\n",
       "</style>\n",
       "<table border=\"1\" class=\"dataframe\">\n",
       "  <thead>\n",
       "    <tr style=\"text-align: right;\">\n",
       "      <th></th>\n",
       "      <th>trajectory</th>\n",
       "      <th>sog</th>\n",
       "      <th>distance</th>\n",
       "    </tr>\n",
       "    <tr>\n",
       "      <th>mmsi</th>\n",
       "      <th></th>\n",
       "      <th></th>\n",
       "      <th></th>\n",
       "    </tr>\n",
       "  </thead>\n",
       "  <tbody>\n",
       "    <tr>\n",
       "      <th>219001559</th>\n",
       "      <td>[0101000020E61000000BB6114F76F32340191C25AFCEC...</td>\n",
       "      <td>[0@2021-01-08 00:00:05+01, 0@2021-01-08 23:59:...</td>\n",
       "      <td>5202.381847</td>\n",
       "    </tr>\n",
       "    <tr>\n",
       "      <th>219027804</th>\n",
       "      <td>[0101000020E6100000137D3ECA88BB27409B38B9DFA1F...</td>\n",
       "      <td>[0@2021-01-08 00:00:01+01, 0@2021-01-08 10:04:...</td>\n",
       "      <td>64865.704162</td>\n",
       "    </tr>\n",
       "    <tr>\n",
       "      <th>257136000</th>\n",
       "      <td>[0101000020E61000005320B3B3E87D1C4023A0C211A47...</td>\n",
       "      <td>[14@2021-01-08 00:02:57+01, 13@2021-01-08 00:0...</td>\n",
       "      <td>647535.585121</td>\n",
       "    </tr>\n",
       "    <tr>\n",
       "      <th>265513270</th>\n",
       "      <td>[0101000020E61000004CA59F70768B2840643BDF4F8D8...</td>\n",
       "      <td>[0@2021-01-08 00:00:00+01, 0@2021-01-08 23:59:...</td>\n",
       "      <td>11.695976</td>\n",
       "    </tr>\n",
       "    <tr>\n",
       "      <th>566948000</th>\n",
       "      <td>[0101000020E61000005E83BEF4F67712403332C85D84C...</td>\n",
       "      <td>[0@2021-01-08 00:00:04+01, 0@2021-01-08 16:40:...</td>\n",
       "      <td>14932.332003</td>\n",
       "    </tr>\n",
       "  </tbody>\n",
       "</table>\n",
       "</div>"
      ],
      "text/plain": [
       "                                                  trajectory  \\\n",
       "mmsi                                                           \n",
       "219001559  [0101000020E61000000BB6114F76F32340191C25AFCEC...   \n",
       "219027804  [0101000020E6100000137D3ECA88BB27409B38B9DFA1F...   \n",
       "257136000  [0101000020E61000005320B3B3E87D1C4023A0C211A47...   \n",
       "265513270  [0101000020E61000004CA59F70768B2840643BDF4F8D8...   \n",
       "566948000  [0101000020E61000005E83BEF4F67712403332C85D84C...   \n",
       "\n",
       "                                                         sog       distance  \n",
       "mmsi                                                                         \n",
       "219001559  [0@2021-01-08 00:00:05+01, 0@2021-01-08 23:59:...    5202.381847  \n",
       "219027804  [0@2021-01-08 00:00:01+01, 0@2021-01-08 10:04:...   64865.704162  \n",
       "257136000  [14@2021-01-08 00:02:57+01, 13@2021-01-08 00:0...  647535.585121  \n",
       "265513270  [0@2021-01-08 00:00:00+01, 0@2021-01-08 23:59:...      11.695976  \n",
       "566948000  [0@2021-01-08 00:00:04+01, 0@2021-01-08 16:40:...   14932.332003  "
      ]
     },
     "execution_count": 4,
     "metadata": {},
     "output_type": "execute_result"
    }
   ],
   "source": [
    "trajectories = ais.groupby('mmsi').aggregate(\n",
    "    {\n",
    "        'point': TGeogPointSeq.from_instants,\n",
    "        'sog': TFloatSeq.from_instants\n",
    "    }\n",
    ").rename({'point': 'trajectory'}, axis=1)\n",
    "trajectories['distance'] = trajectories['trajectory'].apply(lambda t: t.length())\n",
    "trajectories.head()"
   ]
  },
  {
   "cell_type": "markdown",
   "metadata": {},
   "source": [
    "Here we can see that PyMEOS has been able to greatly reduce the number of points stored (and thus memory used) without losing any information."
   ]
  },
  {
   "cell_type": "code",
   "execution_count": 5,
   "metadata": {
    "collapsed": false,
    "jupyter": {
     "outputs_hidden": false
    }
   },
   "outputs": [
    {
     "data": {
      "text/html": [
       "<div>\n",
       "<style scoped>\n",
       "    .dataframe tbody tr th:only-of-type {\n",
       "        vertical-align: middle;\n",
       "    }\n",
       "\n",
       "    .dataframe tbody tr th {\n",
       "        vertical-align: top;\n",
       "    }\n",
       "\n",
       "    .dataframe thead th {\n",
       "        text-align: right;\n",
       "    }\n",
       "</style>\n",
       "<table border=\"1\" class=\"dataframe\">\n",
       "  <thead>\n",
       "    <tr style=\"text-align: right;\">\n",
       "      <th></th>\n",
       "      <th>original #points</th>\n",
       "      <th>PyMEOS #points</th>\n",
       "    </tr>\n",
       "    <tr>\n",
       "      <th>mmsi</th>\n",
       "      <th></th>\n",
       "      <th></th>\n",
       "    </tr>\n",
       "  </thead>\n",
       "  <tbody>\n",
       "    <tr>\n",
       "      <th>219001559</th>\n",
       "      <td>48323</td>\n",
       "      <td>&lt;bound method Temporal.num_instants of TGeogPo...</td>\n",
       "    </tr>\n",
       "    <tr>\n",
       "      <th>219027804</th>\n",
       "      <td>38326</td>\n",
       "      <td>&lt;bound method Temporal.num_instants of TGeogPo...</td>\n",
       "    </tr>\n",
       "    <tr>\n",
       "      <th>257136000</th>\n",
       "      <td>21770</td>\n",
       "      <td>&lt;bound method Temporal.num_instants of TGeogPo...</td>\n",
       "    </tr>\n",
       "    <tr>\n",
       "      <th>265513270</th>\n",
       "      <td>21799</td>\n",
       "      <td>&lt;bound method Temporal.num_instants of TGeogPo...</td>\n",
       "    </tr>\n",
       "    <tr>\n",
       "      <th>566948000</th>\n",
       "      <td>26619</td>\n",
       "      <td>&lt;bound method Temporal.num_instants of TGeogPo...</td>\n",
       "    </tr>\n",
       "  </tbody>\n",
       "</table>\n",
       "</div>"
      ],
      "text/plain": [
       "           original #points                                     PyMEOS #points\n",
       "mmsi                                                                          \n",
       "219001559             48323  <bound method Temporal.num_instants of TGeogPo...\n",
       "219027804             38326  <bound method Temporal.num_instants of TGeogPo...\n",
       "257136000             21770  <bound method Temporal.num_instants of TGeogPo...\n",
       "265513270             21799  <bound method Temporal.num_instants of TGeogPo...\n",
       "566948000             26619  <bound method Temporal.num_instants of TGeogPo..."
      ]
     },
     "execution_count": 5,
     "metadata": {},
     "output_type": "execute_result"
    }
   ],
   "source": [
    "pd.concat([ais.groupby('mmsi')['t'].count().rename('original #points'),\n",
    "           trajectories['trajectory'].apply(lambda t: t.num_instants).rename('PyMEOS #points')],\n",
    "          axis=1)"
   ]
  },
  {
   "cell_type": "markdown",
   "metadata": {},
   "source": [
    "We can visualize the trajectories and the SOG evolutions by plotting them."
   ]
  },
  {
   "cell_type": "code",
   "execution_count": 6,
   "metadata": {
    "collapsed": false,
    "jupyter": {
     "outputs_hidden": false
    }
   },
   "outputs": [
    {
     "data": {
      "image/png": "[encoded data removed]",
      "text/plain": [
       "<Figure size 2000x1000 with 2 Axes>"
      ]
     },
     "metadata": {},
     "output_type": "display_data"
    }
   ],
   "source": [
    "fig, axes = plt.subplots(1, 2, figsize=(20, 10))\n",
    "for _, ship in trajectories.iterrows():\n",
    "    ship['trajectory'].plot(axes=axes[0])\n",
    "    ship['sog'].plot(axes=axes[1])\n",
    "plt.show()"
   ]
  },
  {
   "cell_type": "markdown",
   "metadata": {},
   "source": [
    "## Calculating temporal distances\n",
    "\n",
    "Let's find all AIS records within a given temporal distance of the green trajectory (mmsi=257136000)"
   ]
  },
  {
   "cell_type": "code",
   "execution_count": 7,
   "metadata": {},
   "outputs": [
    {
     "data": {
      "text/html": [
       "<div>\n",
       "<style scoped>\n",
       "    .dataframe tbody tr th:only-of-type {\n",
       "        vertical-align: middle;\n",
       "    }\n",
       "\n",
       "    .dataframe tbody tr th {\n",
       "        vertical-align: top;\n",
       "    }\n",
       "\n",
       "    .dataframe thead th {\n",
       "        text-align: right;\n",
       "    }\n",
       "</style>\n",
       "<table border=\"1\" class=\"dataframe\">\n",
       "  <thead>\n",
       "    <tr style=\"text-align: right;\">\n",
       "      <th></th>\n",
       "      <th>trajectory</th>\n",
       "      <th>sog</th>\n",
       "      <th>distance</th>\n",
       "    </tr>\n",
       "    <tr>\n",
       "      <th>mmsi</th>\n",
       "      <th></th>\n",
       "      <th></th>\n",
       "      <th></th>\n",
       "    </tr>\n",
       "  </thead>\n",
       "  <tbody>\n",
       "    <tr>\n",
       "      <th>257136000</th>\n",
       "      <td>[0101000020E61000005320B3B3E87D1C4023A0C211A47...</td>\n",
       "      <td>[14@2021-01-08 00:02:57+01, 13@2021-01-08 00:0...</td>\n",
       "      <td>647535.585121</td>\n",
       "    </tr>\n",
       "  </tbody>\n",
       "</table>\n",
       "</div>"
      ],
      "text/plain": [
       "                                                  trajectory  \\\n",
       "mmsi                                                           \n",
       "257136000  [0101000020E61000005320B3B3E87D1C4023A0C211A47...   \n",
       "\n",
       "                                                         sog       distance  \n",
       "mmsi                                                                         \n",
       "257136000  [14@2021-01-08 00:02:57+01, 13@2021-01-08 00:0...  647535.585121  "
      ]
     },
     "execution_count": 7,
     "metadata": {},
     "output_type": "execute_result"
    }
   ],
   "source": [
    "MMSI = 257136000\n",
    "trajectories[trajectories.index.isin([MMSI])]"
   ]
  },
  {
   "cell_type": "code",
   "execution_count": 8,
   "metadata": {},
   "outputs": [
    {
     "data": {
      "text/html": [
       "<div>\n",
       "<style scoped>\n",
       "    .dataframe tbody tr th:only-of-type {\n",
       "        vertical-align: middle;\n",
       "    }\n",
       "\n",
       "    .dataframe tbody tr th {\n",
       "        vertical-align: top;\n",
       "    }\n",
       "\n",
       "    .dataframe thead th {\n",
       "        text-align: right;\n",
       "    }\n",
       "</style>\n",
       "<table border=\"1\" class=\"dataframe\">\n",
       "  <thead>\n",
       "    <tr style=\"text-align: right;\">\n",
       "      <th></th>\n",
       "      <th>t</th>\n",
       "      <th>mmsi</th>\n",
       "      <th>sog</th>\n",
       "      <th>point</th>\n",
       "      <th>geometry</th>\n",
       "      <th>dist</th>\n",
       "    </tr>\n",
       "  </thead>\n",
       "  <tbody>\n",
       "    <tr>\n",
       "      <th>0</th>\n",
       "      <td>2021-01-08 00:00:00</td>\n",
       "      <td>265513270</td>\n",
       "      <td>0@2021-01-08 00:00:00+01</td>\n",
       "      <td>0101000020E61000004CA59F70768B2840643BDF4F8D87...</td>\n",
       "      <td>POINT (12.272388 57.059)</td>\n",
       "      <td>NaN</td>\n",
       "    </tr>\n",
       "    <tr>\n",
       "      <th>1</th>\n",
       "      <td>2021-01-08 00:00:01</td>\n",
       "      <td>219027804</td>\n",
       "      <td>0@2021-01-08 00:00:01+01</td>\n",
       "      <td>0101000020E6100000137D3ECA88BB27409B38B9DFA1F8...</td>\n",
       "      <td>POINT (11.866278 55.94244)</td>\n",
       "      <td>NaN</td>\n",
       "    </tr>\n",
       "    <tr>\n",
       "      <th>2</th>\n",
       "      <td>2021-01-08 00:00:01</td>\n",
       "      <td>265513270</td>\n",
       "      <td>0@2021-01-08 00:00:01+01</td>\n",
       "      <td>0101000020E61000004CA59F70768B2840643BDF4F8D87...</td>\n",
       "      <td>POINT (12.272388 57.059)</td>\n",
       "      <td>NaN</td>\n",
       "    </tr>\n",
       "    <tr>\n",
       "      <th>3</th>\n",
       "      <td>2021-01-08 00:00:03</td>\n",
       "      <td>219027804</td>\n",
       "      <td>0@2021-01-08 00:00:03+01</td>\n",
       "      <td>0101000020E6100000137D3ECA88BB27409B38B9DFA1F8...</td>\n",
       "      <td>POINT (11.866278 55.94244)</td>\n",
       "      <td>NaN</td>\n",
       "    </tr>\n",
       "    <tr>\n",
       "      <th>4</th>\n",
       "      <td>2021-01-08 00:00:04</td>\n",
       "      <td>265513270</td>\n",
       "      <td>0@2021-01-08 00:00:04+01</td>\n",
       "      <td>0101000020E61000004CA59F70768B2840643BDF4F8D87...</td>\n",
       "      <td>POINT (12.272388 57.059)</td>\n",
       "      <td>NaN</td>\n",
       "    </tr>\n",
       "    <tr>\n",
       "      <th>...</th>\n",
       "      <td>...</td>\n",
       "      <td>...</td>\n",
       "      <td>...</td>\n",
       "      <td>...</td>\n",
       "      <td>...</td>\n",
       "      <td>...</td>\n",
       "    </tr>\n",
       "    <tr>\n",
       "      <th>156832</th>\n",
       "      <td>2021-01-08 23:59:56</td>\n",
       "      <td>219001559</td>\n",
       "      <td>0@2021-01-08 23:59:56+01</td>\n",
       "      <td>0101000020E6100000E09D7C7A6CF3234091B41B7DCCCB...</td>\n",
       "      <td>POINT (9.975437 57.592178)</td>\n",
       "      <td>NaN</td>\n",
       "    </tr>\n",
       "    <tr>\n",
       "      <th>156833</th>\n",
       "      <td>2021-01-08 23:59:56</td>\n",
       "      <td>219027804</td>\n",
       "      <td>0@2021-01-08 23:59:56+01</td>\n",
       "      <td>0101000020E6100000193A765089BB2740E2E47E87A2F8...</td>\n",
       "      <td>POINT (11.866282 55.94246)</td>\n",
       "      <td>NaN</td>\n",
       "    </tr>\n",
       "    <tr>\n",
       "      <th>156834</th>\n",
       "      <td>2021-01-08 23:59:57</td>\n",
       "      <td>219001559</td>\n",
       "      <td>0@2021-01-08 23:59:57+01</td>\n",
       "      <td>0101000020E6100000228D0A9C6CF32340C138B874CCCB...</td>\n",
       "      <td>POINT (9.975438 57.592177)</td>\n",
       "      <td>NaN</td>\n",
       "    </tr>\n",
       "    <tr>\n",
       "      <th>156835</th>\n",
       "      <td>2021-01-08 23:59:57</td>\n",
       "      <td>265513270</td>\n",
       "      <td>0@2021-01-08 23:59:57+01</td>\n",
       "      <td>0101000020E610000088D7F50B768B2840C443183F8D87...</td>\n",
       "      <td>POINT (12.272385 57.058998)</td>\n",
       "      <td>NaN</td>\n",
       "    </tr>\n",
       "    <tr>\n",
       "      <th>156836</th>\n",
       "      <td>2021-01-08 23:59:58</td>\n",
       "      <td>219001559</td>\n",
       "      <td>0@2021-01-08 23:59:58+01</td>\n",
       "      <td>0101000020E6100000E09D7C7A6CF3234032ACE28DCCCB...</td>\n",
       "      <td>POINT (9.975437 57.59218)</td>\n",
       "      <td>NaN</td>\n",
       "    </tr>\n",
       "  </tbody>\n",
       "</table>\n",
       "<p>156837 rows × 6 columns</p>\n",
       "</div>"
      ],
      "text/plain": [
       "                          t       mmsi                       sog  \\\n",
       "0       2021-01-08 00:00:00  265513270  0@2021-01-08 00:00:00+01   \n",
       "1       2021-01-08 00:00:01  219027804  0@2021-01-08 00:00:01+01   \n",
       "2       2021-01-08 00:00:01  265513270  0@2021-01-08 00:00:01+01   \n",
       "3       2021-01-08 00:00:03  219027804  0@2021-01-08 00:00:03+01   \n",
       "4       2021-01-08 00:00:04  265513270  0@2021-01-08 00:00:04+01   \n",
       "...                     ...        ...                       ...   \n",
       "156832  2021-01-08 23:59:56  219001559  0@2021-01-08 23:59:56+01   \n",
       "156833  2021-01-08 23:59:56  219027804  0@2021-01-08 23:59:56+01   \n",
       "156834  2021-01-08 23:59:57  219001559  0@2021-01-08 23:59:57+01   \n",
       "156835  2021-01-08 23:59:57  265513270  0@2021-01-08 23:59:57+01   \n",
       "156836  2021-01-08 23:59:58  219001559  0@2021-01-08 23:59:58+01   \n",
       "\n",
       "                                                    point  \\\n",
       "0       0101000020E61000004CA59F70768B2840643BDF4F8D87...   \n",
       "1       0101000020E6100000137D3ECA88BB27409B38B9DFA1F8...   \n",
       "2       0101000020E61000004CA59F70768B2840643BDF4F8D87...   \n",
       "3       0101000020E6100000137D3ECA88BB27409B38B9DFA1F8...   \n",
       "4       0101000020E61000004CA59F70768B2840643BDF4F8D87...   \n",
       "...                                                   ...   \n",
       "156832  0101000020E6100000E09D7C7A6CF3234091B41B7DCCCB...   \n",
       "156833  0101000020E6100000193A765089BB2740E2E47E87A2F8...   \n",
       "156834  0101000020E6100000228D0A9C6CF32340C138B874CCCB...   \n",
       "156835  0101000020E610000088D7F50B768B2840C443183F8D87...   \n",
       "156836  0101000020E6100000E09D7C7A6CF3234032ACE28DCCCB...   \n",
       "\n",
       "                           geometry  dist  \n",
       "0          POINT (12.272388 57.059)   NaN  \n",
       "1        POINT (11.866278 55.94244)   NaN  \n",
       "2          POINT (12.272388 57.059)   NaN  \n",
       "3        POINT (11.866278 55.94244)   NaN  \n",
       "4          POINT (12.272388 57.059)   NaN  \n",
       "...                             ...   ...  \n",
       "156832   POINT (9.975437 57.592178)   NaN  \n",
       "156833   POINT (11.866282 55.94246)   NaN  \n",
       "156834   POINT (9.975438 57.592177)   NaN  \n",
       "156835  POINT (12.272385 57.058998)   NaN  \n",
       "156836    POINT (9.975437 57.59218)   NaN  \n",
       "\n",
       "[156837 rows x 6 columns]"
      ]
     },
     "execution_count": 8,
     "metadata": {},
     "output_type": "execute_result"
    }
   ],
   "source": [
    "def distance_to_traj(row):\n",
    "    tpt = row['point']\n",
    "    traj = trajectories[trajectories.index.isin([MMSI])].trajectory.iloc[0]\n",
    "    d = traj.distance(tpt)\n",
    "    if d and row.mmsi != MMSI:\n",
    "        return d.value()\n",
    "    return None\n",
    "\n",
    "ais['dist'] = ais.apply(distance_to_traj, axis=1)\n",
    "ais"
   ]
  },
  {
   "cell_type": "code",
   "execution_count": 9,
   "metadata": {},
   "outputs": [
    {
     "data": {
      "text/html": [
       "<div>\n",
       "<style scoped>\n",
       "    .dataframe tbody tr th:only-of-type {\n",
       "        vertical-align: middle;\n",
       "    }\n",
       "\n",
       "    .dataframe tbody tr th {\n",
       "        vertical-align: top;\n",
       "    }\n",
       "\n",
       "    .dataframe thead th {\n",
       "        text-align: right;\n",
       "    }\n",
       "</style>\n",
       "<table border=\"1\" class=\"dataframe\">\n",
       "  <thead>\n",
       "    <tr style=\"text-align: right;\">\n",
       "      <th></th>\n",
       "      <th>t</th>\n",
       "      <th>mmsi</th>\n",
       "      <th>sog</th>\n",
       "      <th>point</th>\n",
       "      <th>geometry</th>\n",
       "      <th>dist</th>\n",
       "    </tr>\n",
       "  </thead>\n",
       "  <tbody>\n",
       "    <tr>\n",
       "      <th>88428</th>\n",
       "      <td>2021-01-08 12:54:44</td>\n",
       "      <td>265513270</td>\n",
       "      <td>0@2021-01-08 12:54:44+01</td>\n",
       "      <td>0101000020E6100000BE4C1421758B28404CDF6B088E87...</td>\n",
       "      <td>POINT (12.272378 57.059022)</td>\n",
       "      <td>19985.410537</td>\n",
       "    </tr>\n",
       "    <tr>\n",
       "      <th>88439</th>\n",
       "      <td>2021-01-08 12:54:51</td>\n",
       "      <td>265513270</td>\n",
       "      <td>0@2021-01-08 12:54:51+01</td>\n",
       "      <td>0101000020E6100000BE4C1421758B28404CDF6B088E87...</td>\n",
       "      <td>POINT (12.272378 57.059022)</td>\n",
       "      <td>19955.324355</td>\n",
       "    </tr>\n",
       "    <tr>\n",
       "      <th>88443</th>\n",
       "      <td>2021-01-08 12:54:54</td>\n",
       "      <td>265513270</td>\n",
       "      <td>0@2021-01-08 12:54:54+01</td>\n",
       "      <td>0101000020E6100000412B3064758B2840ABE7A4F78D87...</td>\n",
       "      <td>POINT (12.27238 57.05902)</td>\n",
       "      <td>19945.127500</td>\n",
       "    </tr>\n",
       "    <tr>\n",
       "      <th>88446</th>\n",
       "      <td>2021-01-08 12:54:56</td>\n",
       "      <td>265513270</td>\n",
       "      <td>0@2021-01-08 12:54:56+01</td>\n",
       "      <td>0101000020E6100000412B3064758B2840ABE7A4F78D87...</td>\n",
       "      <td>POINT (12.27238 57.05902)</td>\n",
       "      <td>19938.218982</td>\n",
       "    </tr>\n",
       "    <tr>\n",
       "      <th>88461</th>\n",
       "      <td>2021-01-08 12:55:04</td>\n",
       "      <td>265513270</td>\n",
       "      <td>0@2021-01-08 12:55:04+01</td>\n",
       "      <td>0101000020E6100000412B3064758B28400BF0DDE68D87...</td>\n",
       "      <td>POINT (12.27238 57.059018)</td>\n",
       "      <td>19903.438639</td>\n",
       "    </tr>\n",
       "    <tr>\n",
       "      <th>...</th>\n",
       "      <td>...</td>\n",
       "      <td>...</td>\n",
       "      <td>...</td>\n",
       "      <td>...</td>\n",
       "      <td>...</td>\n",
       "      <td>...</td>\n",
       "    </tr>\n",
       "    <tr>\n",
       "      <th>93959</th>\n",
       "      <td>2021-01-08 13:42:17</td>\n",
       "      <td>265513270</td>\n",
       "      <td>0@2021-01-08 13:42:17+01</td>\n",
       "      <td>0101000020E6100000276728EE788B2840E25CC30C8D87...</td>\n",
       "      <td>POINT (12.272407 57.058992)</td>\n",
       "      <td>19944.556247</td>\n",
       "    </tr>\n",
       "    <tr>\n",
       "      <th>93965</th>\n",
       "      <td>2021-01-08 13:42:21</td>\n",
       "      <td>265513270</td>\n",
       "      <td>0@2021-01-08 13:42:21+01</td>\n",
       "      <td>0101000020E6100000276728EE788B2840E25CC30C8D87...</td>\n",
       "      <td>POINT (12.272407 57.058992)</td>\n",
       "      <td>19957.244284</td>\n",
       "    </tr>\n",
       "    <tr>\n",
       "      <th>93971</th>\n",
       "      <td>2021-01-08 13:42:24</td>\n",
       "      <td>265513270</td>\n",
       "      <td>0@2021-01-08 13:42:24+01</td>\n",
       "      <td>0101000020E61000006956B60F798B2840E25CC30C8D87...</td>\n",
       "      <td>POINT (12.272408 57.058992)</td>\n",
       "      <td>19971.534345</td>\n",
       "    </tr>\n",
       "    <tr>\n",
       "      <th>93980</th>\n",
       "      <td>2021-01-08 13:42:28</td>\n",
       "      <td>265513270</td>\n",
       "      <td>0@2021-01-08 13:42:28+01</td>\n",
       "      <td>0101000020E61000006956B60F798B2840E25CC30C8D87...</td>\n",
       "      <td>POINT (12.272408 57.058992)</td>\n",
       "      <td>19989.837144</td>\n",
       "    </tr>\n",
       "    <tr>\n",
       "      <th>93984</th>\n",
       "      <td>2021-01-08 13:42:30</td>\n",
       "      <td>265513270</td>\n",
       "      <td>0@2021-01-08 13:42:30+01</td>\n",
       "      <td>0101000020E61000006956B60F798B2840E25CC30C8D87...</td>\n",
       "      <td>POINT (12.272408 57.058992)</td>\n",
       "      <td>19997.904820</td>\n",
       "    </tr>\n",
       "  </tbody>\n",
       "</table>\n",
       "<p>722 rows × 6 columns</p>\n",
       "</div>"
      ],
      "text/plain": [
       "                         t       mmsi                       sog  \\\n",
       "88428  2021-01-08 12:54:44  265513270  0@2021-01-08 12:54:44+01   \n",
       "88439  2021-01-08 12:54:51  265513270  0@2021-01-08 12:54:51+01   \n",
       "88443  2021-01-08 12:54:54  265513270  0@2021-01-08 12:54:54+01   \n",
       "88446  2021-01-08 12:54:56  265513270  0@2021-01-08 12:54:56+01   \n",
       "88461  2021-01-08 12:55:04  265513270  0@2021-01-08 12:55:04+01   \n",
       "...                    ...        ...                       ...   \n",
       "93959  2021-01-08 13:42:17  265513270  0@2021-01-08 13:42:17+01   \n",
       "93965  2021-01-08 13:42:21  265513270  0@2021-01-08 13:42:21+01   \n",
       "93971  2021-01-08 13:42:24  265513270  0@2021-01-08 13:42:24+01   \n",
       "93980  2021-01-08 13:42:28  265513270  0@2021-01-08 13:42:28+01   \n",
       "93984  2021-01-08 13:42:30  265513270  0@2021-01-08 13:42:30+01   \n",
       "\n",
       "                                                   point  \\\n",
       "88428  0101000020E6100000BE4C1421758B28404CDF6B088E87...   \n",
       "88439  0101000020E6100000BE4C1421758B28404CDF6B088E87...   \n",
       "88443  0101000020E6100000412B3064758B2840ABE7A4F78D87...   \n",
       "88446  0101000020E6100000412B3064758B2840ABE7A4F78D87...   \n",
       "88461  0101000020E6100000412B3064758B28400BF0DDE68D87...   \n",
       "...                                                  ...   \n",
       "93959  0101000020E6100000276728EE788B2840E25CC30C8D87...   \n",
       "93965  0101000020E6100000276728EE788B2840E25CC30C8D87...   \n",
       "93971  0101000020E61000006956B60F798B2840E25CC30C8D87...   \n",
       "93980  0101000020E61000006956B60F798B2840E25CC30C8D87...   \n",
       "93984  0101000020E61000006956B60F798B2840E25CC30C8D87...   \n",
       "\n",
       "                          geometry          dist  \n",
       "88428  POINT (12.272378 57.059022)  19985.410537  \n",
       "88439  POINT (12.272378 57.059022)  19955.324355  \n",
       "88443    POINT (12.27238 57.05902)  19945.127500  \n",
       "88446    POINT (12.27238 57.05902)  19938.218982  \n",
       "88461   POINT (12.27238 57.059018)  19903.438639  \n",
       "...                            ...           ...  \n",
       "93959  POINT (12.272407 57.058992)  19944.556247  \n",
       "93965  POINT (12.272407 57.058992)  19957.244284  \n",
       "93971  POINT (12.272408 57.058992)  19971.534345  \n",
       "93980  POINT (12.272408 57.058992)  19989.837144  \n",
       "93984  POINT (12.272408 57.058992)  19997.904820  \n",
       "\n",
       "[722 rows x 6 columns]"
      ]
     },
     "execution_count": 9,
     "metadata": {},
     "output_type": "execute_result"
    }
   ],
   "source": [
    "ais[(ais.dist>0) & (ais.dist<20000)]"
   ]
  },
  {
   "cell_type": "code",
   "execution_count": 10,
   "metadata": {},
   "outputs": [],
   "source": [
    "import geopandas as gpd"
   ]
  },
  {
   "cell_type": "code",
   "execution_count": 11,
   "metadata": {},
   "outputs": [],
   "source": [
    "MAX_DIST = 20000\n",
    "dwithin = gpd.GeoDataFrame(ais[(ais.dist>0) & (ais.dist<=MAX_DIST)][['mmsi','geometry','dist']], crs=4326)\n",
    "allais = gpd.GeoDataFrame(ais[ais.mmsi!=MMSI][['mmsi','geometry','dist']], crs=4326)"
   ]
  },
  {
   "cell_type": "code",
   "execution_count": 12,
   "metadata": {},
   "outputs": [
    {
     "data": {
      "text/plain": [
       "<Axes: >"
      ]
     },
     "execution_count": 12,
     "metadata": {},
     "output_type": "execute_result"
    },
    {
     "data": {
      "image/png": "[encoded data removed]",
      "text/plain": [
       "<Figure size 800x800 with 1 Axes>"
      ]
     },
     "metadata": {},
     "output_type": "display_data"
    }
   ],
   "source": [
    "fig, ax = plt.subplots(figsize=(8,8))    # define fig and axes\n",
    "trajectories[trajectories.index.isin([257136000])].iloc[0]['trajectory'].plot(axes=ax)\n",
    "allais.plot(ax=ax, color='gray')\n",
    "dwithin.plot(ax=ax, color='red')"
   ]
  },
  {
   "cell_type": "markdown",
   "metadata": {},
   "source": [
    "# Storing in MobilityDB ([MEOS Example](https://libmeos.org/tutorialprograms/meos_store_ais/))\n",
    "\n",
    "Now we will store the temporal objects we have created in MobilityDB.\n",
    "To connect to MobilityDB (PostgreSQL), `psycopg2` is used. You can install it yourself or install `pymeos` with the `dbp2` option:\n",
    "```shell\n",
    "pip install pymeos[dbp2]\n",
    "```\n",
    "If you don't have MobilityDB set up, you can use the Docker image to quickly start:\n",
    "```shell\n",
    "docker run -d -p 5432:5432 --name pymeos-demo-db mobilitydb/mobilitydb:14-3.2-develop\n",
    "```\n",
    "MobilityDB also supports `asyncpg` and `psycopg` (psycopg3)"
   ]
  },
  {
   "cell_type": "markdown",
   "metadata": {},
   "source": [
    "First, set up the connection parameters. Change any of the following values according to your configuration"
   ]
  },
  {
   "cell_type": "code",
   "execution_count": 13,
   "metadata": {
    "collapsed": false,
    "jupyter": {
     "outputs_hidden": false
    }
   },
   "outputs": [
    {
     "ename": "ModuleNotFoundError",
     "evalue": "No module named 'psycopg2'",
     "output_type": "error",
     "traceback": [
      "\u001b[0;31m---------------------------------------------------------------------------\u001b[0m",
      "\u001b[0;31mModuleNotFoundError\u001b[0m                       Traceback (most recent call last)",
      "Cell \u001b[0;32mIn[13], line 1\u001b[0m\n\u001b[0;32m----> 1\u001b[0m \u001b[38;5;28;01mfrom\u001b[39;00m \u001b[38;5;21;01mpymeos\u001b[39;00m\u001b[38;5;21;01m.\u001b[39;00m\u001b[38;5;21;01mdb\u001b[39;00m\u001b[38;5;21;01m.\u001b[39;00m\u001b[38;5;21;01mpsycopg2\u001b[39;00m \u001b[38;5;28;01mimport\u001b[39;00m MobilityDB\n\u001b[1;32m      3\u001b[0m host \u001b[38;5;241m=\u001b[39m \u001b[38;5;124m'\u001b[39m\u001b[38;5;124mlocalhost\u001b[39m\u001b[38;5;124m'\u001b[39m\n\u001b[1;32m      4\u001b[0m port \u001b[38;5;241m=\u001b[39m \u001b[38;5;241m5432\u001b[39m\n",
      "File \u001b[0;32m~/anaconda3/envs/mobispaces/lib/python3.10/site-packages/pymeos/db/psycopg2.py:1\u001b[0m\n\u001b[0;32m----> 1\u001b[0m \u001b[38;5;28;01mfrom\u001b[39;00m \u001b[38;5;21;01mpsycopg2\u001b[39;00m \u001b[38;5;28;01mimport\u001b[39;00m extensions, connect\n\u001b[1;32m      3\u001b[0m \u001b[38;5;28;01mfrom\u001b[39;00m \u001b[38;5;21;01mpymeos\u001b[39;00m \u001b[38;5;28;01mimport\u001b[39;00m TBool, TInt, TFloat, TText, TGeomPoint, TGeogPoint, TBox, STBox, TimestampSet, Period, PeriodSet\n\u001b[1;32m      6\u001b[0m \u001b[38;5;28;01mclass\u001b[39;00m \u001b[38;5;21;01mMobilityDB\u001b[39;00m:\n",
      "\u001b[0;31mModuleNotFoundError\u001b[0m: No module named 'psycopg2'"
     ]
    }
   ],
   "source": [
    "from pymeos.db.psycopg2 import MobilityDB\n",
    "\n",
    "host = 'localhost'\n",
    "port = 5432\n",
    "db = 'mobilitydb'\n",
    "user = 'docker'\n",
    "password = 'docker'\n",
    "\n",
    "connection = MobilityDB.connect(host=host, port=port, database=db, user=user, password=password)\n",
    "cursor = connection.cursor()"
   ]
  },
  {
   "cell_type": "markdown",
   "metadata": {},
   "source": [
    "Now, we will create the table where we will write our objects."
   ]
  },
  {
   "cell_type": "code",
   "execution_count": null,
   "metadata": {
    "collapsed": false,
    "jupyter": {
     "outputs_hidden": false
    }
   },
   "outputs": [],
   "source": [
    "cursor.execute(\"DROP TABLE IF EXISTS public.PyMEOS_demo;\")\n",
    "cursor.execute(\"CREATE TABLE public.PyMEOS_demo\"\n",
    "               \"(MMSI integer, trajectory public.tgeogpoint, SOG public.tfloat);\")\n",
    "connection.commit()"
   ]
  },
  {
   "cell_type": "markdown",
   "metadata": {},
   "source": [
    "Let's insert now the rows of the DataFrame into the MobilityDB table"
   ]
  },
  {
   "cell_type": "code",
   "execution_count": null,
   "metadata": {
    "collapsed": false,
    "jupyter": {
     "outputs_hidden": false
    }
   },
   "outputs": [],
   "source": [
    "for mmsi, row in trajectories.iterrows():\n",
    "    cursor.execute(f\"INSERT INTO public.PyMEOS_demo(MMSI, trajectory, SOG) \"\n",
    "                   f\"VALUES ({mmsi}, '{row.trajectory}', '{row.sog}');\")\n",
    "connection.commit()"
   ]
  },
  {
   "cell_type": "markdown",
   "metadata": {},
   "source": [
    "Now, we will read one of the records that we just wrote"
   ]
  },
  {
   "cell_type": "code",
   "execution_count": null,
   "metadata": {
    "collapsed": false,
    "jupyter": {
     "outputs_hidden": false
    }
   },
   "outputs": [],
   "source": [
    "cursor.execute(\"SELECT * FROM public.PyMEOS_demo WHERE MMSI = 257136000;\")\n",
    "mmsi, trajectory, sog = cursor.fetchone()"
   ]
  },
  {
   "cell_type": "code",
   "execution_count": null,
   "metadata": {
    "collapsed": false,
    "jupyter": {
     "outputs_hidden": false
    }
   },
   "outputs": [],
   "source": [
    "fig, axes = plt.subplots(1, 2, figsize=(20, 10))\n",
    "trajectory.plot(axes=axes[0])\n",
    "sog.plot(axes=axes[1])\n",
    "plt.suptitle(f'Ship {mmsi}')\n",
    "plt.show()"
   ]
  },
  {
   "cell_type": "markdown",
   "metadata": {},
   "source": [
    "Finally, let's close the connection and wrap everything up"
   ]
  },
  {
   "cell_type": "code",
   "execution_count": null,
   "metadata": {
    "collapsed": false,
    "jupyter": {
     "outputs_hidden": false
    }
   },
   "outputs": [],
   "source": [
    "connection.commit()\n",
    "cursor.close()\n",
    "pymeos_finalize()"
   ]
  }
 ],
 "metadata": {
  "kernelspec": {
   "display_name": "Python 3 (ipykernel)",
   "language": "python",
   "name": "python3"
  },
  "language_info": {
   "codemirror_mode": {
    "name": "ipython",
    "version": 3
   },
   "file_extension": ".py",
   "mimetype": "text/x-python",
   "name": "python",
   "nbconvert_exporter": "python",
   "pygments_lexer": "ipython3",
   "version": "3.10.9"
  }
 },
 "nbformat": 4,
 "nbformat_minor": 4
}
